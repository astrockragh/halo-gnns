{
 "cells": [
  {
   "cell_type": "code",
   "execution_count": 90,
   "id": "76cd6ec2",
   "metadata": {},
   "outputs": [],
   "source": [
    "#----------------------------------------------------\n",
    "# Initial notebook for making the Illustris cosmic graph from galaxy catalogues\n",
    "# Author: Christian Kragh Jespersen\n",
    "# First created: 11/03/23 @KITP\n",
    "# note: to make into routine later\n",
    "#----------------------------------------------------\n",
    "\n",
    "import h5py\n",
    "import illustris_python as il\n",
    "from torch_geometric.data import Data\n",
    "from torch_geometric.loader import  DataLoader\n",
    "import scipy.spatial as ss\n",
    "import os, sys, torch, pickle, random, time\n",
    "import os.path as osp\n",
    "import pandas as pd\n",
    "import numpy as np\n",
    "import matplotlib.pyplot as plt"
   ]
  },
  {
   "cell_type": "code",
   "execution_count": 91,
   "id": "e2662699",
   "metadata": {},
   "outputs": [],
   "source": [
    "sys.path.insert(1, '../src')\n",
    "from make_cosmic_web import *"
   ]
  },
  {
   "cell_type": "code",
   "execution_count": 92,
   "id": "89b8a2cf",
   "metadata": {},
   "outputs": [
    {
     "name": "stdout",
     "output_type": "stream",
     "text": [
      "File already exists\n"
     ]
    }
   ],
   "source": [
    "reload = False #force a reload of the data to change cuts, use_loops, periodic or use_loops\n",
    "\n",
    "## get illustris positions\n",
    "tng_base_path = osp.expanduser(\"~/../../scratch/gpfs/cj1223/TNG50\")\n",
    "snapshot = 99\n",
    "h = 0.7 # cosmology h, set to 1 if you want comoving Mpc\n",
    "\n",
    "r_link = 4 #Mpc\n",
    "\n",
    "cuts = {\"minimum_log_stellar_mass\": 9,\n",
    "        \"minimum_log_halo_mass\": 8,\n",
    "       \"minimum_n_star_particles\": 100}\n",
    "\n",
    "undirected = True\n",
    "periodic = False\n",
    "use_loops = False\n",
    "\n",
    "use_gal = True # True = use galaxy params to infer dark matter, False = use DM params to infer galaxy stuff\n",
    "\n",
    "pad = 1 # how much padding to add around each subbox, so the separation in total will be 2 times this\n",
    "\n",
    "split = 8 #how many subboxes\n",
    "\n",
    "data_path = osp.join(tng_base_path, 'cosmic_graphs', f'split_{split}_link_{int(r_link)}_pad{int(pad)}_gal{int(use_gal)}.pkl')\n",
    "\n",
    "if osp.isfile(data_path) and not reload:\n",
    "    print('File already exists')\n",
    "else:\n",
    "    print('Remaking dataset')\n",
    "    make_webs(tng_base_path = tng_base_path, snapshot = snapshot, r_link = r_link, pad = pad,\\\n",
    "              cuts = cuts, use_gal = use_gal, h = h, undirected = undirected, periodic = periodic,\\\n",
    "              use_loops = use_loops)\n",
    "    \n",
    "data = pickle.load(open(data_path, 'rb'))"
   ]
  },
  {
   "cell_type": "code",
   "execution_count": 93,
   "id": "3b7b4e7b",
   "metadata": {},
   "outputs": [
    {
     "data": {
      "text/plain": [
       "[Data(x=[136, 8], edge_index=[2, 1440], edge_attr=[1440, 3], y=[136, 2]),\n",
       " Data(x=[187, 8], edge_index=[2, 2354], edge_attr=[2354, 3], y=[187, 2]),\n",
       " Data(x=[185, 8], edge_index=[2, 2560], edge_attr=[2560, 3], y=[185, 2]),\n",
       " Data(x=[438, 8], edge_index=[2, 23388], edge_attr=[23388, 3], y=[438, 2]),\n",
       " Data(x=[411, 8], edge_index=[2, 17430], edge_attr=[17430, 3], y=[411, 2]),\n",
       " Data(x=[225, 8], edge_index=[2, 3320], edge_attr=[3320, 3], y=[225, 2]),\n",
       " Data(x=[264, 8], edge_index=[2, 3520], edge_attr=[3520, 3], y=[264, 2]),\n",
       " Data(x=[154, 8], edge_index=[2, 1618], edge_attr=[1618, 3], y=[154, 2])]"
      ]
     },
     "execution_count": 93,
     "metadata": {},
     "output_type": "execute_result"
    }
   ],
   "source": [
    "data"
   ]
  },
  {
   "cell_type": "code",
   "execution_count": 94,
   "id": "ef3a93ad",
   "metadata": {},
   "outputs": [],
   "source": [
    "import torch\n",
    "import torch.nn as nn\n",
    "import torch.nn.functional as F\n",
    "from torch_geometric.nn import (\n",
    "    MessagePassing, SAGEConv, GCNConv, PPFConv, MetaLayer, EdgeConv,\n",
    "    global_mean_pool, global_max_pool, global_add_pool )"
   ]
  },
  {
   "cell_type": "code",
   "execution_count": 95,
   "id": "52f5b1e4",
   "metadata": {},
   "outputs": [],
   "source": [
    "import torch.nn.functional as F\n",
    "from torch.nn import Linear, LayerNorm, LeakyReLU, Module, ReLU, Sequential, ModuleList\n",
    "from torch_geometric.nn import SAGEConv, global_mean_pool, norm, global_max_pool, global_add_pool, MetaLayer\n",
    "from torch_scatter import scatter_mean, scatter_sum, scatter_max, scatter_min, scatter_add\n",
    "from torch import cat, square,zeros, clone, abs, sigmoid, float32, tanh, clamp\n",
    "\n",
    "class MLP(Module):\n",
    "    def __init__(self, n_in, n_out, hidden=64, nlayers=2, layer_norm=True):\n",
    "        super().__init__()\n",
    "        '''Simple MLP class with ReLU activiation + layernorm'''\n",
    "        layers = [Linear(n_in, hidden), ReLU()]\n",
    "        for i in range(nlayers):\n",
    "            layers.append(Linear(hidden, hidden))\n",
    "            layers.append(ReLU()) \n",
    "        if layer_norm:\n",
    "            layers.append(LayerNorm(hidden))\n",
    "        layers.append(Linear(hidden, n_out))\n",
    "        self.mlp = Sequential(*layers)\n",
    "\n",
    "    def forward(self, x):\n",
    "        return self.mlp(x)\n",
    "\n",
    "\n",
    "class Sage(Module):\n",
    "    def __init__(self, hidden_channels, in_channels, out_channels, encode=True, conv_layers=3, conv_activation='relu', \n",
    "                    decode_layers=2, decode_activation='leakyrelu', layernorm=True, variance=1, agg='sum'):\n",
    "        super(Sage, self).__init__()\n",
    "        '''Model built upon the GraphSAGE convolutional layer. This is a node only model (no global, no edge).\n",
    "        Model takes a data object from a dataloader in the forward call and takes out the rest itself. \n",
    "        hidden_channels, n_in, n_out must be specified\n",
    "        Most other things can be customized at wish, e.g. activation functions for which ReLU and LeakyReLU can be used'''\n",
    "        self.encode=encode\n",
    "        if self.encode:\n",
    "            self.node_enc = MLP(in_channels, hidden_channels, layer_norm=True) #could turn up hidden states\n",
    "        self.decode_activation=decode_activation\n",
    "        self.conv_activation=conv_activation\n",
    "        self.layernorm=layernorm\n",
    "        self.in_channels=in_channels\n",
    "        self.out_channels=out_channels\n",
    "        self.hidden_channels=hidden_channels\n",
    "        self.variance=variance\n",
    "        self.agg=agg\n",
    "        \n",
    "        ########################\n",
    "        # Convolutional Layers #\n",
    "        ######################## \n",
    "\n",
    "        self.convs=ModuleList()\n",
    "        if self.encode:\n",
    "            self.convs.append(SAGEConv(hidden_channels, hidden_channels))\n",
    "        else:\n",
    "            self.convs.append(SAGEConv(in_channels, hidden_channels))\n",
    "        for _ in range(int(conv_layers-1)):\n",
    "            self.convs.append(SAGEConv(hidden_channels, hidden_channels))\n",
    "\n",
    "        ##################\n",
    "        # Decode Layers #\n",
    "        ##################       \n",
    "\n",
    "        self.decoders = ModuleList()\n",
    "        self.norms = ModuleList()\n",
    "        for _ in range(out_channels):\n",
    "            self.decoder=ModuleList()\n",
    "            self.norm=ModuleList()\n",
    "            for i in range(decode_layers):\n",
    "                if i==decode_layers-1: ## if final layer, make layer with only one output\n",
    "                    self.decoder.append(Linear(hidden_channels, 1))\n",
    "                    self.norm.append(LayerNorm(normalized_shape=0)) ## redundant layer, throws an error on purpose if used\n",
    "                    \n",
    "                else:\n",
    "                    self.norm.append(LayerNorm(normalized_shape=hidden_channels))\n",
    "                    self.decoder.append(Linear(hidden_channels, hidden_channels))\n",
    "            self.decoders.append(self.decoder)\n",
    "            self.norms.append(self.norm)\n",
    "\n",
    "        ###################\n",
    "        # Variance Layers #\n",
    "        ###################\n",
    "\n",
    "        if variance:\n",
    "            self.sigs = ModuleList()\n",
    "            self.sig_norms = ModuleList()\n",
    "            for _ in range(out_channels):\n",
    "                self.sig=ModuleList()\n",
    "                self.sig_norm=ModuleList()\n",
    "                for i in range(decode_layers):\n",
    "                    if i==decode_layers-1:\n",
    "                        self.sig.append(Linear(hidden_channels, 1))\n",
    "                        self.sig_norm.append(LayerNorm(normalized_shape=0)) ## redundant layer, throws an error on purpose if used\n",
    "                    else:\n",
    "                        self.sig_norm.append(LayerNorm(normalized_shape=hidden_channels))\n",
    "                        self.sig.append(Linear(hidden_channels, hidden_channels))\n",
    "                self.sigs.append(self.sig)\n",
    "                self.sig_norms.append(self.sig_norm)\n",
    "        \n",
    "        #####################\n",
    "        # Activation Layers #\n",
    "        #####################\n",
    "        \n",
    "        self.conv_act=self.conv_act_f()\n",
    "        self.decode_act=self.decode_act_f() ## could apply later\n",
    "\n",
    "    def conv_act_f(self):\n",
    "        if self.conv_activation =='relu':\n",
    "            print('RelU conv activation')\n",
    "            act = ReLU()\n",
    "            return act\n",
    "        if self.conv_activation =='leakyrelu':\n",
    "            print('LeakyRelU conv activation')\n",
    "            act=LeakyReLU()\n",
    "            return act\n",
    "        if not self.conv_activation:\n",
    "            raise ValueError(\"Please specify a conv activation function\")\n",
    "\n",
    "    def decode_act_f(self):\n",
    "        if self.decode_activation =='relu':\n",
    "            print('RelU decode activation')\n",
    "            act = ReLU()\n",
    "            return act\n",
    "        if self.decode_activation =='leakyrelu':\n",
    "            print('LeakyRelU decode activation')\n",
    "            act=LeakyReLU()\n",
    "            return act\n",
    "        if not self.decode_activation:\n",
    "            print(\"Please specify a decode activation function\")\n",
    "            return None\n",
    "\n",
    "    def forward(self, graph):\n",
    "\n",
    "        #get the data\n",
    "        x, edge_index, batch = graph.x, graph.edge_index, graph.batch\n",
    "        #encode\n",
    "        if self.encode:\n",
    "            x = self.node_enc(x)\n",
    "        \n",
    "        #convolutions \n",
    "        for conv in self.convs:\n",
    "            x = conv(x, edge_index)\n",
    "            x=self.conv_act(x) ##choose whichever\n",
    "        \n",
    "        #decoder\n",
    "        x_out=[]\n",
    "        for norm, decode in zip(self.norms, self.decoders):\n",
    "            x1=clone(x)\n",
    "            for i, (n, d) in enumerate(zip(norm, decode)):\n",
    "                if i != len(norm) - 1:\n",
    "\n",
    "                    x1=n(d(x1))\n",
    "                    x1=self.decode_act(x1) ##note that these are LeakyReLU and should continue as such, otherwise you have to remove them from the last layer\n",
    "                else:\n",
    "                    x1 = d(x1)\n",
    "            x_out.append(x1)\n",
    "        x_out=cat(x_out, dim=1)\n",
    "        \n",
    "        # variance\n",
    "        if self.variance:\n",
    "            sig=[]\n",
    "            for norm, decode in zip(self.sig_norms, self.sigs):\n",
    "                \n",
    "            \n",
    "                x1=clone(x)\n",
    "                for i, (n, d) in enumerate(zip(norm, decode)):\n",
    "                    if i != len(norm) - 1:\n",
    "\n",
    "                        x1=n(d(x1))\n",
    "                        x1=self.decode_act(x1) ##note that these are LeakyReLU and should continue as such, otherwise you have to remove them from the last layer\n",
    "                    else:\n",
    "                        x1 = d(x1)\n",
    "                sig.append(x1)\n",
    "            sig=abs(cat(sig, dim=1)) #stability\n",
    "\n",
    "            return x_out, sig\n",
    "        else:\n",
    "            return x_out"
   ]
  },
  {
   "cell_type": "code",
   "execution_count": 96,
   "id": "e82468f3",
   "metadata": {},
   "outputs": [
    {
     "name": "stdout",
     "output_type": "stream",
     "text": [
      "RelU conv activation\n",
      "LeakyRelU decode activation\n"
     ]
    }
   ],
   "source": [
    "n_feat, n_targ = len(data[0].x[0]), len(data[0].y[0])\n",
    "model = Sage(64, n_feat, n_targ, variance = 0)"
   ]
  },
  {
   "cell_type": "code",
   "execution_count": 117,
   "id": "7b8a363c",
   "metadata": {},
   "outputs": [],
   "source": [
    "batch_size = 32\n",
    "train_loader = DataLoader(data[1:], batch_size=batch_size, shuffle=1)\n",
    "test_loader = DataLoader(data[:1], batch_size=batch_size, shuffle=0)\n",
    "\n",
    "from scipy.spatial.transform import Rotation\n",
    "import torch.nn.functional as F\n",
    "\n",
    "if torch.cuda.is_available():\n",
    "    print('CUDA')\n",
    "    from accelerate import Accelerator\n",
    "    accelerator = Accelerator()\n",
    "    device = accelerator.device\n",
    "    \n",
    "torch.manual_seed(42)\n",
    "random.seed(42)"
   ]
  },
  {
   "cell_type": "code",
   "execution_count": 118,
   "id": "4ab4268e",
   "metadata": {},
   "outputs": [
    {
     "name": "stdout",
     "output_type": "stream",
     "text": [
      "GPU  False\n"
     ]
    }
   ],
   "source": [
    "l1_lambda = 0\n",
    "l2_lambda = 0\n",
    "\n",
    "trains, tests, scatter = [], [], []\n",
    "yss, preds=[],[]\n",
    "\n",
    "optimizer = torch.optim.Adam(model.parameters(), lr=0.003)\n",
    "if torch.cuda.is_available():\n",
    "    _, _, test_loader = accelerator.prepare(model, optimizer, test_loader)\n",
    "    model, optimizer, train_loader = accelerator.prepare(model, optimizer, train_loader)\n",
    "print('GPU ', next(model.parameters()).is_cuda)\n",
    "\n",
    "# Initialize our train function\n",
    "datas = []\n",
    "def train():\n",
    "    global out\n",
    "    model.train()\n",
    "    for data in train_loader:  \n",
    "        datas.append(data)\n",
    "        out = model(data)  \n",
    "        loss = criterion(out, data.y.view(-1,n_targ)) \n",
    "        l1_norm = sum(p.abs().sum() for p in model.parameters())\n",
    "        l2_norm = sum(p.pow(2.0).sum() for p in model.parameters())\n",
    "\n",
    "\n",
    "        loss = loss + l1_lambda * l1_norm + l2_lambda * l2_norm\n",
    "        \n",
    "        if torch.cuda.is_available(): \n",
    "            accelerator.backward(loss)\n",
    "        else:\n",
    "            loss.backward()\n",
    "        optimizer.step() \n",
    "        optimizer.zero_grad() \n",
    "#     print(loss, l1_norm*l1_lambda, l2_norm*l2_lambda)\n",
    " # test function\n",
    "\n",
    "def test(loader): ##### transform back missing\n",
    "    model.eval()\n",
    "    outs = []\n",
    "    ys = []\n",
    "\n",
    "    with torch.no_grad(): ##this solves it!!!\n",
    "        for dat in loader: \n",
    "            out = model(dat) \n",
    "            ys.append(dat.y.view(-1,n_targ))\n",
    "            outs.append(out)\n",
    "    outss=torch.vstack(outs)\n",
    "    yss=torch.vstack(ys)\n",
    "    return torch.std(outss - yss, axis=0), outss, yss"
   ]
  },
  {
   "cell_type": "code",
   "execution_count": 126,
   "id": "0a8155fc",
   "metadata": {},
   "outputs": [
    {
     "name": "stdout",
     "output_type": "stream",
     "text": [
      "Epoch: 010, Train scatter: [0.4388 0.2349] \n",
      "           Test scatter:  [0.5135 0.6175]\n",
      "Epoch: 020, Train scatter: [0.4337 0.2276] \n",
      "           Test scatter:  [0.529  0.6452]\n",
      "Epoch: 030, Train scatter: [0.4287 0.2086] \n",
      "           Test scatter:  [0.5159 0.5818]\n",
      "Epoch: 040, Train scatter: [0.4227 0.1983] \n",
      "           Test scatter:  [0.5244 0.6003]\n",
      "Epoch: 050, Train scatter: [0.4168 0.192 ] \n",
      "           Test scatter:  [0.5312 0.6267]\n",
      "Epoch: 060, Train scatter: [0.4118 0.1951] \n",
      "           Test scatter:  [0.5371 0.6877]\n"
     ]
    },
    {
     "ename": "KeyboardInterrupt",
     "evalue": "",
     "output_type": "error",
     "traceback": [
      "\u001b[0;31m---------------------------------------------------------------------------\u001b[0m",
      "\u001b[0;31mKeyboardInterrupt\u001b[0m                         Traceback (most recent call last)",
      "Cell \u001b[0;32mIn[126], line 9\u001b[0m\n\u001b[1;32m      6\u001b[0m start\u001b[38;5;241m=\u001b[39mtime\u001b[38;5;241m.\u001b[39mtime()\n\u001b[1;32m      7\u001b[0m \u001b[38;5;28;01mfor\u001b[39;00m epoch \u001b[38;5;129;01min\u001b[39;00m \u001b[38;5;28mrange\u001b[39m(n_epochs):\n\u001b[0;32m----> 9\u001b[0m     \u001b[43mtrain\u001b[49m\u001b[43m(\u001b[49m\u001b[43m)\u001b[49m\n\u001b[1;32m     11\u001b[0m     \u001b[38;5;28;01mif\u001b[39;00m (epoch\u001b[38;5;241m+\u001b[39m\u001b[38;5;241m1\u001b[39m)\u001b[38;5;241m%\u001b[39mval_epoch\u001b[38;5;241m==\u001b[39m\u001b[38;5;241m0\u001b[39m:\n\u001b[1;32m     12\u001b[0m         train_acc, _ , _ \u001b[38;5;241m=\u001b[39m test(train_loader)\n",
      "Cell \u001b[0;32mIn[118], line 31\u001b[0m, in \u001b[0;36mtrain\u001b[0;34m()\u001b[0m\n\u001b[1;32m     29\u001b[0m     accelerator\u001b[38;5;241m.\u001b[39mbackward(loss)\n\u001b[1;32m     30\u001b[0m \u001b[38;5;28;01melse\u001b[39;00m:\n\u001b[0;32m---> 31\u001b[0m     \u001b[43mloss\u001b[49m\u001b[38;5;241;43m.\u001b[39;49m\u001b[43mbackward\u001b[49m\u001b[43m(\u001b[49m\u001b[43m)\u001b[49m\n\u001b[1;32m     32\u001b[0m optimizer\u001b[38;5;241m.\u001b[39mstep() \n\u001b[1;32m     33\u001b[0m optimizer\u001b[38;5;241m.\u001b[39mzero_grad()\n",
      "File \u001b[0;32m~/.conda/envs/torch-env/lib/python3.10/site-packages/torch/_tensor.py:396\u001b[0m, in \u001b[0;36mTensor.backward\u001b[0;34m(self, gradient, retain_graph, create_graph, inputs)\u001b[0m\n\u001b[1;32m    387\u001b[0m \u001b[38;5;28;01mif\u001b[39;00m has_torch_function_unary(\u001b[38;5;28mself\u001b[39m):\n\u001b[1;32m    388\u001b[0m     \u001b[38;5;28;01mreturn\u001b[39;00m handle_torch_function(\n\u001b[1;32m    389\u001b[0m         Tensor\u001b[38;5;241m.\u001b[39mbackward,\n\u001b[1;32m    390\u001b[0m         (\u001b[38;5;28mself\u001b[39m,),\n\u001b[0;32m   (...)\u001b[0m\n\u001b[1;32m    394\u001b[0m         create_graph\u001b[38;5;241m=\u001b[39mcreate_graph,\n\u001b[1;32m    395\u001b[0m         inputs\u001b[38;5;241m=\u001b[39minputs)\n\u001b[0;32m--> 396\u001b[0m \u001b[43mtorch\u001b[49m\u001b[38;5;241;43m.\u001b[39;49m\u001b[43mautograd\u001b[49m\u001b[38;5;241;43m.\u001b[39;49m\u001b[43mbackward\u001b[49m\u001b[43m(\u001b[49m\u001b[38;5;28;43mself\u001b[39;49m\u001b[43m,\u001b[49m\u001b[43m \u001b[49m\u001b[43mgradient\u001b[49m\u001b[43m,\u001b[49m\u001b[43m \u001b[49m\u001b[43mretain_graph\u001b[49m\u001b[43m,\u001b[49m\u001b[43m \u001b[49m\u001b[43mcreate_graph\u001b[49m\u001b[43m,\u001b[49m\u001b[43m \u001b[49m\u001b[43minputs\u001b[49m\u001b[38;5;241;43m=\u001b[39;49m\u001b[43minputs\u001b[49m\u001b[43m)\u001b[49m\n",
      "File \u001b[0;32m~/.conda/envs/torch-env/lib/python3.10/site-packages/torch/autograd/__init__.py:173\u001b[0m, in \u001b[0;36mbackward\u001b[0;34m(tensors, grad_tensors, retain_graph, create_graph, grad_variables, inputs)\u001b[0m\n\u001b[1;32m    168\u001b[0m     retain_graph \u001b[38;5;241m=\u001b[39m create_graph\n\u001b[1;32m    170\u001b[0m \u001b[38;5;66;03m# The reason we repeat same the comment below is that\u001b[39;00m\n\u001b[1;32m    171\u001b[0m \u001b[38;5;66;03m# some Python versions print out the first line of a multi-line function\u001b[39;00m\n\u001b[1;32m    172\u001b[0m \u001b[38;5;66;03m# calls in the traceback and some print out the last line\u001b[39;00m\n\u001b[0;32m--> 173\u001b[0m \u001b[43mVariable\u001b[49m\u001b[38;5;241;43m.\u001b[39;49m\u001b[43m_execution_engine\u001b[49m\u001b[38;5;241;43m.\u001b[39;49m\u001b[43mrun_backward\u001b[49m\u001b[43m(\u001b[49m\u001b[43m  \u001b[49m\u001b[38;5;66;43;03m# Calls into the C++ engine to run the backward pass\u001b[39;49;00m\n\u001b[1;32m    174\u001b[0m \u001b[43m    \u001b[49m\u001b[43mtensors\u001b[49m\u001b[43m,\u001b[49m\u001b[43m \u001b[49m\u001b[43mgrad_tensors_\u001b[49m\u001b[43m,\u001b[49m\u001b[43m \u001b[49m\u001b[43mretain_graph\u001b[49m\u001b[43m,\u001b[49m\u001b[43m \u001b[49m\u001b[43mcreate_graph\u001b[49m\u001b[43m,\u001b[49m\u001b[43m \u001b[49m\u001b[43minputs\u001b[49m\u001b[43m,\u001b[49m\n\u001b[1;32m    175\u001b[0m \u001b[43m    \u001b[49m\u001b[43mallow_unreachable\u001b[49m\u001b[38;5;241;43m=\u001b[39;49m\u001b[38;5;28;43;01mTrue\u001b[39;49;00m\u001b[43m,\u001b[49m\u001b[43m \u001b[49m\u001b[43maccumulate_grad\u001b[49m\u001b[38;5;241;43m=\u001b[39;49m\u001b[38;5;28;43;01mTrue\u001b[39;49;00m\u001b[43m)\u001b[49m\n",
      "\u001b[0;31mKeyboardInterrupt\u001b[0m: "
     ]
    }
   ],
   "source": [
    "n_epochs = 200\n",
    "val_epoch = 10\n",
    "criterion = torch.nn.MSELoss()\n",
    "\n",
    "tr_acc, te_acc = [], []\n",
    "start=time.time()\n",
    "for epoch in range(n_epochs):\n",
    "\n",
    "    train()\n",
    "\n",
    "    if (epoch+1)%val_epoch==0:\n",
    "        train_acc, _ , _ = test(train_loader)\n",
    "        test_acc, outs , ys = test(test_loader)\n",
    "        tr_acc.append(train_acc.cpu().numpy())\n",
    "        te_acc.append(test_acc.cpu().numpy())\n",
    "        print(f'Epoch: {epoch+1:03d}, Train scatter: {np.round(train_acc.cpu().numpy(), 4)} \\n \\\n",
    "          Test scatter:  {np.round(test_acc.cpu().numpy(), 4)}')\n",
    "stop=time.time()\n",
    "spent=stop-start"
   ]
  },
  {
   "cell_type": "code",
   "execution_count": 120,
   "id": "c047ec28",
   "metadata": {},
   "outputs": [
    {
     "data": {
      "text/plain": [
       "tensor([[11.3268,  8.1264],\n",
       "        [11.4329,  7.9588],\n",
       "        [11.0552,  6.4195],\n",
       "        ...,\n",
       "        [ 9.4267,  1.7035],\n",
       "        [ 9.3680,  1.6198],\n",
       "        [ 9.3400,  1.4615]], grad_fn=<CatBackward0>)"
      ]
     },
     "execution_count": 120,
     "metadata": {},
     "output_type": "execute_result"
    }
   ],
   "source": []
  },
  {
   "cell_type": "code",
   "execution_count": 134,
   "id": "1b1cdbf6",
   "metadata": {},
   "outputs": [
    {
     "data": {
      "text/plain": [
       "(8.783030891418457, 12.152775382995605)"
      ]
     },
     "execution_count": 134,
     "metadata": {},
     "output_type": "execute_result"
    },
    {
     "data": {
      "image/png": "[encoded data removed]",
      "text/plain": [
       "<Figure size 640x480 with 1 Axes>"
      ]
     },
     "metadata": {},
     "output_type": "display_data"
    }
   ],
   "source": [
    "plt.plot(ys[:,0].detach().numpy(), outs[:,0].detach().numpy(), 'ro', alpha = 0.5)\n",
    "r = np.hstack([ys[:,0].detach().numpy(), outs[:,0].detach().numpy()])\n",
    "r = [np.min(r)-.1, np.max(r)+0.1]\n",
    "plt.plot(r,r, 'k--')\n",
    "plt.xlim(r)\n",
    "plt.ylim(r)\n",
    "# plt.plot(datas[0].y.view(-1,n_targ)[:,0].detach().numpy(), out[:,0].detach().numpy(), 'ro')\n"
   ]
  },
  {
   "cell_type": "code",
   "execution_count": 130,
   "id": "0996cef7",
   "metadata": {},
   "outputs": [
    {
     "data": {
      "text/plain": [
       "[9.003032, 11.737026]"
      ]
     },
     "execution_count": 130,
     "metadata": {},
     "output_type": "execute_result"
    }
   ],
   "source": [
    "r"
   ]
  },
  {
   "cell_type": "code",
   "execution_count": 113,
   "id": "89d37410",
   "metadata": {},
   "outputs": [
    {
     "data": {
      "text/plain": [
       "([Data(x=[136, 8], edge_index=[2, 1440], edge_attr=[1440, 3], y=[136, 2]),\n",
       "  Data(x=[187, 8], edge_index=[2, 2354], edge_attr=[2354, 3], y=[187, 2]),\n",
       "  Data(x=[185, 8], edge_index=[2, 2560], edge_attr=[2560, 3], y=[185, 2]),\n",
       "  Data(x=[438, 8], edge_index=[2, 23388], edge_attr=[23388, 3], y=[438, 2]),\n",
       "  Data(x=[411, 8], edge_index=[2, 17430], edge_attr=[17430, 3], y=[411, 2]),\n",
       "  Data(x=[225, 8], edge_index=[2, 3320], edge_attr=[3320, 3], y=[225, 2]),\n",
       "  Data(x=[264, 8], edge_index=[2, 3520], edge_attr=[3520, 3], y=[264, 2])],\n",
       " [Data(x=[154, 8], edge_index=[2, 1618], edge_attr=[1618, 3], y=[154, 2])])"
      ]
     },
     "execution_count": 113,
     "metadata": {},
     "output_type": "execute_result"
    }
   ],
   "source": [
    "data[:7], data[-1:]"
   ]
  }
 ],
 "metadata": {
  "kernelspec": {
   "display_name": "Python 3 (ipykernel)",
   "language": "python",
   "name": "python3"
  },
  "language_info": {
   "codemirror_mode": {
    "name": "ipython",
    "version": 3
   },
   "file_extension": ".py",
   "mimetype": "text/x-python",
   "name": "python",
   "nbconvert_exporter": "python",
   "pygments_lexer": "ipython3",
   "version": "3.10.9"
  }
 },
 "nbformat": 4,
 "nbformat_minor": 5
}
